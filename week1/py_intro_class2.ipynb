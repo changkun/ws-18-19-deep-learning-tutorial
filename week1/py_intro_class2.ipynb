{
 "cells": [
  {
   "cell_type": "markdown",
   "metadata": {},
   "source": [
    "# Deep Learning and AI - WiSe 18/19\n",
    "\n",
    "* Lecturer: Prof. Dr. Matthias Schubert\n",
    "* Assistants: Sebastian Schmoll, Sabrina Friedl\n"
   ]
  },
  {
   "cell_type": "markdown",
   "metadata": {},
   "source": [
    "# 1st Tutorial - 10/22/18\n",
    "\n",
    "In this tutorial, we want to give you a short introduction in Python and some insights in the basic usage of some common libraries in the scope of Data Science."
   ]
  },
  {
   "cell_type": "markdown",
   "metadata": {},
   "source": [
    "<strong>Installing Python</strong>\n",
    "\n",
    "* Anaconda distribution (recommended)\n",
    "\n",
    "Visit the website https://www.continuum.io/downloads and download the Anaconda distribution for the Python 3.6 version. Make yourself familiar with the jupyter Python notebook which is included in the anaconda installation. If preferred, install also an IDE/editor of your choice, e.g. PyCharm.\n",
    "The Anaconda distribution comes along with a lot of libraries (numpy, scipy, pandas, ...) which otherwise have to be installed individually. IF you need an additional library which is not initially included in Anaconda, you can install the lib via \"conda install PACKAGENAME\". (Further information can be looked up in the documentation: https://conda.io/docs/index.html)\n",
    "\n",
    "* W/o distribution\n",
    "\n",
    "Visit https://www.python.org/downloads/ and download your preferred python version. Next, go to https://pip.pypa.io/en/stable/installing/ and install $pip$. With $pip$ being installed one can install each package individually. For Example, to install the packages $numpy, scipy, matplotlib, ipythong, jupyter, pandas$, execute the following command:<br/>\n",
    "pip install --user numpy scipy matplotlib ipython jupyter pandas\n",
    "If you need an additional package during the course, don't forget to install the libraries which might be handy. "
   ]
  },
  {
   "cell_type": "markdown",
   "metadata": {},
   "source": [
    "<strong>First steps</strong>"
   ]
  },
  {
   "cell_type": "markdown",
   "metadata": {},
   "source": [
    "<b>Assigning Values to Variables.</b> Create variables and assign numbers, strings, floating values to them. "
   ]
  },
  {
   "cell_type": "code",
   "execution_count": 1,
   "metadata": {},
   "outputs": [
    {
     "name": "stdout",
     "output_type": "stream",
     "text": [
      "1 hello world 2.0\n"
     ]
    }
   ],
   "source": [
    "a = 1 \n",
    "b = 'hello world'\n",
    "c = 2.0\n",
    "\n",
    "print(a, b, c)"
   ]
  },
  {
   "cell_type": "markdown",
   "metadata": {},
   "source": [
    "<b>Variable types</b>\n",
    "Python has five standard data types −\n",
    "<ul>\n",
    "<li>Numbers</li>\n",
    "<li>String</li>\n",
    "<li>List</li>\n",
    "<li>Tuple</li>\n",
    "<li>Dictionary</li>\n",
    "</ul>\n",
    "\n",
    "<b>Lists.</b> Create a list which contains all numbers from 0 to 10"
   ]
  },
  {
   "cell_type": "code",
   "execution_count": 5,
   "metadata": {},
   "outputs": [
    {
     "name": "stdout",
     "output_type": "stream",
     "text": [
      "[0, 1, 2, 3, 4, 5, 6, 7, 8, 9, 10]\n"
     ]
    }
   ],
   "source": [
    "l = [0, 1, 2, 3, 4, 5, 6, 7, 8, 9, 10]\n",
    "\n",
    "print(l)"
   ]
  },
  {
   "cell_type": "markdown",
   "metadata": {},
   "source": [
    "<b>Loops and conditionals.</b> Using the created list, print each element of the created list if its is an odd number, by using a loop and conditionals. Try using different type of loops."
   ]
  },
  {
   "cell_type": "code",
   "execution_count": 6,
   "metadata": {},
   "outputs": [
    {
     "name": "stdout",
     "output_type": "stream",
     "text": [
      "1\n",
      "3\n",
      "5\n",
      "7\n",
      "9\n"
     ]
    }
   ],
   "source": [
    "for i in l:\n",
    "    if i % 2 == 1:\n",
    "        print(i)"
   ]
  },
  {
   "cell_type": "code",
   "execution_count": 8,
   "metadata": {},
   "outputs": [
    {
     "name": "stdout",
     "output_type": "stream",
     "text": [
      "1\n",
      "3\n",
      "5\n",
      "7\n",
      "9\n"
     ]
    }
   ],
   "source": [
    "for index, _ in enumerate(l):\n",
    "    if l[index]%2 == 1:\n",
    "        print(l[index])"
   ]
  },
  {
   "cell_type": "code",
   "execution_count": 10,
   "metadata": {},
   "outputs": [
    {
     "name": "stdout",
     "output_type": "stream",
     "text": [
      "1\n",
      "3\n",
      "5\n",
      "7\n",
      "9\n"
     ]
    }
   ],
   "source": [
    "index = 0\n",
    "while index < len(l):\n",
    "    if l[index] % 2 == 1:\n",
    "        print(l[index])\n",
    "    index += 1"
   ]
  },
  {
   "cell_type": "code",
   "execution_count": null,
   "metadata": {},
   "outputs": [],
   "source": []
  },
  {
   "cell_type": "markdown",
   "metadata": {},
   "source": [
    "<b>List Comprehensions.</b> Now, generate a list which contains all numbers from 0 to $n$ which have been squared using list comprehensions."
   ]
  },
  {
   "cell_type": "code",
   "execution_count": 12,
   "metadata": {},
   "outputs": [
    {
     "name": "stdout",
     "output_type": "stream",
     "text": [
      "[0, 1, 4, 9, 16, 25, 36, 49, 64, 81]\n"
     ]
    }
   ],
   "source": [
    "# i ** 2 == i * i\n",
    "\n",
    "n = 10\n",
    "\n",
    "ll = [i ** 2 for i in range(0, n)]\n",
    "print(ll)"
   ]
  },
  {
   "cell_type": "markdown",
   "metadata": {},
   "source": [
    "<b>Functions. </b> Write a function which takes an integer $n$. The function first creates a list of numbers from $0$ to $n$. Then, squares each number of the list. Further each of the squared numbers is tested if it is odd. All odd numbers are then appended to a new list. The function returns the list of odd (squared) numbers."
   ]
  },
  {
   "cell_type": "code",
   "execution_count": 13,
   "metadata": {},
   "outputs": [
    {
     "name": "stdout",
     "output_type": "stream",
     "text": [
      "[1, 9, 25, 49, 81]\n"
     ]
    }
   ],
   "source": [
    "def list_gen(n):\n",
    "    return [i**2 for i in range(0, n+1) if i ** 2 % 2 == 1]\n",
    "\n",
    "ll = list_gen(10)\n",
    "print(ll)"
   ]
  },
  {
   "cell_type": "markdown",
   "metadata": {},
   "source": [
    "<b>Assignments. </b> Given a list $a=['I','like','cookies']$ and another list $b=a$. Replace in the list $b$ the word $'cookies'$ with $'apples'$. Finally, print both lists ($a$ and $b$). What do you observe? What leads to the observed behavior?"
   ]
  },
  {
   "cell_type": "code",
   "execution_count": 14,
   "metadata": {},
   "outputs": [
    {
     "name": "stdout",
     "output_type": "stream",
     "text": [
      "['I', 'like', 'apple']\n",
      "['I', 'like', 'apple']\n"
     ]
    }
   ],
   "source": [
    "a = ['I','like','cookies']\n",
    "b = a\n",
    "\n",
    "b[2] = 'apple'\n",
    "\n",
    "print(a)\n",
    "print(b)"
   ]
  },
  {
   "cell_type": "markdown",
   "metadata": {},
   "source": [
    "<b>Shallow Copy I.</b> Given a list $a=['I','like','cookies']$ and another list which takes a shallow copy of $a$, $b=a[:]$. Like in the previous assignment, replace in the list $b$ the word $'cookies'$ with $'apples'$. Finally, print both lists ($a$ and $b$). What do you observe now?"
   ]
  },
  {
   "cell_type": "code",
   "execution_count": 15,
   "metadata": {},
   "outputs": [
    {
     "name": "stdout",
     "output_type": "stream",
     "text": [
      "['I', 'like', 'cookies']\n",
      "['I', 'like', 'apple']\n"
     ]
    }
   ],
   "source": [
    "a = ['I','like','cookies']\n",
    "b = a[:]\n",
    "\n",
    "b[2] = 'apple'\n",
    "print(a)\n",
    "print(b)"
   ]
  },
  {
   "cell_type": "markdown",
   "metadata": {},
   "source": [
    "<b>Shallow Copy II.</b> Now, we are given a list $a = ['I', 'like', ['chocolate', 'cookies']]$. Another list $b = deepcopy(a)$ takes this time a deep copy from $a$. Change now the work $'cookies'$ with $'apples'$ in $b$. Print both lists ($a$ and $b$). What do you observe now?<br/>\n",
    "<i>Hint: For deep copy. first type: from copy import deepcopy</i>"
   ]
  },
  {
   "cell_type": "code",
   "execution_count": 17,
   "metadata": {},
   "outputs": [
    {
     "name": "stdout",
     "output_type": "stream",
     "text": [
      "['I', 'like', ['chocolate', 'apple']]\n",
      "['I', 'like', ['chocolate', 'apple']]\n",
      "['I', 'like', ['chocolate', 'cookies']]\n",
      "['I', 'like', ['chocolate', 'apple']]\n"
     ]
    }
   ],
   "source": [
    "a = ['I','like', ['chocolate', 'cookies']]\n",
    "b = a[:] # shallow copy\n",
    "\n",
    "b[2][1] = 'apple'\n",
    "print(a)\n",
    "print(b)\n",
    "\n",
    "\n",
    "from copy import deepcopy\n",
    "a = ['I','like', ['chocolate', 'cookies']]\n",
    "c = deepcopy(a)\n",
    "\n",
    "c[2][1] = 'apple'\n",
    "print(a)\n",
    "print(c)"
   ]
  },
  {
   "cell_type": "markdown",
   "metadata": {},
   "source": [
    "<b>Dictionaries I.</b> Create a dictionary with $n$ entries, where the  keys are enumerated from $0$ to $n-1$ and the values are their corresponding keys squared. Use list comprehensions. <br/>\n",
    "Example for expected result: $n = 7; \\{0:0, 1:1, 2:4, 3:9, 4:16, 5:25, 6:36\\}$"
   ]
  },
  {
   "cell_type": "code",
   "execution_count": 19,
   "metadata": {},
   "outputs": [
    {
     "name": "stdout",
     "output_type": "stream",
     "text": [
      "{0: 0, 1: 1, 2: 4, 3: 9, 4: 16, 5: 25, 6: 36}\n"
     ]
    }
   ],
   "source": [
    "d = {key : key **2 for key in range(0, 7)}\n",
    "print(d)"
   ]
  },
  {
   "cell_type": "markdown",
   "metadata": {},
   "source": [
    "<b>Dictionaries II.</b> Use the dictionary from the previous assignment. Write a list comprehension to get a list of all the  keys of the  dictionary. "
   ]
  },
  {
   "cell_type": "code",
   "execution_count": 25,
   "metadata": {},
   "outputs": [
    {
     "name": "stdout",
     "output_type": "stream",
     "text": [
      "[0, 1, 2, 3, 4, 5, 6]\n",
      "[0, 1, 2, 3, 4, 5, 6]\n"
     ]
    }
   ],
   "source": [
    "keys = [key for key in d]\n",
    "print(keys)\n",
    "\n",
    "keys2 = d.keys()\n",
    "print(list(keys2))"
   ]
  },
  {
   "cell_type": "markdown",
   "metadata": {},
   "source": [
    "<b>Lambda functions.</b> Write a list comprehension which takes a number $n$ and returns a list with even numbers, using a lambda function."
   ]
  },
  {
   "cell_type": "code",
   "execution_count": 26,
   "metadata": {},
   "outputs": [
    {
     "name": "stdout",
     "output_type": "stream",
     "text": [
      "[0, 2, 4, 6, 8]\n"
     ]
    }
   ],
   "source": [
    "lambda_function = lambda n : [i for i in range(0, n) if i % 2 == 0]\n",
    "\n",
    "print(lambda_function(10))\n"
   ]
  },
  {
   "cell_type": "markdown",
   "metadata": {},
   "source": [
    "<b>map. </b> First, write a function which takes a length in $inch$ and returns a length in $cm$. Given a list $l$ with lengths in $inches$: $l=[4,4.5,5,5.5,6,7]$. Write a list comprehension which takes $l$ and returns a list with all values converted to $cm$ using $map()$."
   ]
  },
  {
   "cell_type": "code",
   "execution_count": 28,
   "metadata": {},
   "outputs": [
    {
     "name": "stdout",
     "output_type": "stream",
     "text": [
      "[10.16, 11.43, 12.7, 13.97, 15.24, 17.78]\n"
     ]
    }
   ],
   "source": [
    "l=[4,4.5,5,5.5,6,7]\n",
    "\n",
    "ll = map(lambda x : x * 2.54, l)\n",
    "\n",
    "print(list(ll))"
   ]
  },
  {
   "cell_type": "code",
   "execution_count": null,
   "metadata": {},
   "outputs": [],
   "source": []
  },
  {
   "cell_type": "markdown",
   "metadata": {},
   "source": [
    "<b>filter. </b> Write a list comprehension which filters the list $l$ from the assignment above by returning only sizes between $4$ and $6$ $inches$."
   ]
  },
  {
   "cell_type": "code",
   "execution_count": 30,
   "metadata": {},
   "outputs": [
    {
     "name": "stdout",
     "output_type": "stream",
     "text": [
      "[4, 4.5, 5, 5.5, 6]\n"
     ]
    }
   ],
   "source": [
    "ll = filter(lambda x : 4 <= x <= 6, l)\n",
    "\n",
    "print(list(ll))"
   ]
  },
  {
   "cell_type": "markdown",
   "metadata": {},
   "source": [
    "<b>reduce. </b> Write a list comprehension which reduces the list $l$ by summing up all lenghts.<br/>\n",
    "<i>Hint: for using the reduce function, you need to import it first by: from functools import reduce</i>"
   ]
  },
  {
   "cell_type": "code",
   "execution_count": 31,
   "metadata": {},
   "outputs": [
    {
     "name": "stdout",
     "output_type": "stream",
     "text": [
      "32.0\n"
     ]
    }
   ],
   "source": [
    "from functools import reduce\n",
    "\n",
    "l_sum = reduce(lambda x, y : x + y, l)\n",
    "\n",
    "print(l_sum)"
   ]
  },
  {
   "cell_type": "markdown",
   "metadata": {},
   "source": [
    "<b>List reverse.</b> Given the following list $a=[0,1,2,3,4,5]$. Write a function which reverses the list."
   ]
  },
  {
   "cell_type": "code",
   "execution_count": 33,
   "metadata": {},
   "outputs": [
    {
     "name": "stdout",
     "output_type": "stream",
     "text": [
      "[5, 4, 3, 2, 1, 0]\n"
     ]
    }
   ],
   "source": [
    "a = [0,1,2,3,4,5]\n",
    "\n",
    "b = a[::-1]\n",
    "\n",
    "print(b)"
   ]
  },
  {
   "cell_type": "markdown",
   "metadata": {},
   "source": [
    "<b>Zipping of lists.</b> Given the following two lists, wher eone list represents the $x-Coordinate$ and another one the $y-Coordinate$:<br/>\n",
    "* $xcoors = [0,1,2,3,4,5]$\n",
    "* $ycoors = [6,7,8,9,10,11]$\n",
    "\n",
    "Write a function which zips the  two lists to a list of coordinate-tuples:<br/>\n",
    "* $xycoors = [(0,6),(1,7),(2,8),(3,9),(4,10),(5,11)]$"
   ]
  },
  {
   "cell_type": "code",
   "execution_count": 34,
   "metadata": {},
   "outputs": [
    {
     "name": "stdout",
     "output_type": "stream",
     "text": [
      "[(0, 6), (1, 7), (2, 8), (3, 9), (4, 10), (5, 11)]\n"
     ]
    }
   ],
   "source": [
    "xcoors = [0,1,2,3,4,5]\n",
    "ycoors = [6,7,8,9,10,11]\n",
    "\n",
    "xycoors = [(xcoors[index], ycoors[index]) for index in range(0, min(len(xcoors), len(ycoors)))]\n",
    "\n",
    "print(xycoors)"
   ]
  },
  {
   "cell_type": "markdown",
   "metadata": {},
   "source": [
    "<b>Unzipping of lists.</b> Now, we are given a list of data points where the first dimension of each data point represents the age of a person and the second dimension the amount of money spent for chocolate per month in euro:\n",
    "* $chocage = [(20,8), (33,18), (27,14),(66,23),(90,100)]$\n",
    "\n",
    "Write a function which takes the  list and separates it into two lists, one containing the ages and another one containing its corresponding amount of money spent for chocolate. The result would be e.g.:\n",
    "* $age = [20,33,27,66,90]$\n",
    "* $money\\_spent = [8,18,14,23,100]$"
   ]
  },
  {
   "cell_type": "code",
   "execution_count": 36,
   "metadata": {},
   "outputs": [
    {
     "name": "stdout",
     "output_type": "stream",
     "text": [
      "[20, 33, 27, 66, 90]\n",
      "[8, 18, 14, 23, 100]\n"
     ]
    }
   ],
   "source": [
    "chocage = [(20,8), (33,18), (27,14),(66,23),(90,100)]\n",
    "\n",
    "age = [x for x, _ in chocage]\n",
    "money_spent = [y for _, y in chocage]\n",
    "\n",
    "\n",
    "print(age)\n",
    "print(money_spent)"
   ]
  },
  {
   "cell_type": "markdown",
   "metadata": {},
   "source": [
    "<b>Object oriented programming I. </b> We deal now with object oriented programming in Python. For this purpose perform the following steps: \n",
    "* Write a $Point$ class. A $Point$ class takes and $x$ and $y$ coordinate as an argument.\n",
    "* Further this class shall have a setter method $setXY$ which takes and $x$ and $y$ coordinate and sets the attributes to the new provided values.\n",
    "* The class shall also have a getter method $getXY$ which returns the current $x$ and $y$ coordiantes of the point.\n",
    "* Write a method distance which takes another $point$ object and returns the euclidean distance between the provided point and the point itself. <i>Hint: Take import math to use math.sqrt(value) in order to compute the square root.</i>"
   ]
  },
  {
   "cell_type": "code",
   "execution_count": 37,
   "metadata": {},
   "outputs": [
    {
     "data": {
      "text/plain": [
       "5.0"
      ]
     },
     "execution_count": 37,
     "metadata": {},
     "output_type": "execute_result"
    }
   ],
   "source": [
    "import math\n",
    "class Point:\n",
    "    \n",
    "    def __init__(self, x, y):\n",
    "        self.x = x\n",
    "        self.y = y\n",
    "        \n",
    "    def setXY(self, x, y):\n",
    "        self.x = x\n",
    "        self.y = y\n",
    "        \n",
    "    def getXY(self):\n",
    "        return (self.x, self.y)\n",
    "    \n",
    "    def distance(self, p):\n",
    "        return math.sqrt((self.x - p.x)**2 + (self.y - p.y)**2)\n",
    "    \n",
    "p1 = Point(0, 0)\n",
    "p2 = Point(3, 4)\n",
    "\n",
    "p1.distance(p2)"
   ]
  },
  {
   "cell_type": "markdown",
   "metadata": {},
   "source": [
    "<b>Object oriented programming II.</b> In a next step, the task is to create a class $Shape$. For this purpose perform the following steps:\n",
    "* Create a class $Shape$ which takes a name and a color as parameters.\n",
    "* Define a method $area$ which just returns $0.0$.\n",
    "* Define a method $perimeter$ which just return $0.0$.\n",
    "\n",
    "Now, create a class Rectangle which inherits from $Shape$ and in which you $implement$ the $area$ and $perimeter$ methods."
   ]
  },
  {
   "cell_type": "code",
   "execution_count": 39,
   "metadata": {},
   "outputs": [
    {
     "name": "stdout",
     "output_type": "stream",
     "text": [
      "50\n",
      "30\n"
     ]
    }
   ],
   "source": [
    "class Shape:\n",
    "    def __init__(self, name, color):\n",
    "        self.name = name\n",
    "        self.color = color\n",
    "        \n",
    "    def area(self):\n",
    "        return 0.0\n",
    "\n",
    "    def perimeter(self):\n",
    "        return 0.0\n",
    "    \n",
    "class Rectangle(Shape):\n",
    "    \n",
    "    def __init__(self, name, color, width, height):\n",
    "        super().__init__(name, color)\n",
    "        self.width = width\n",
    "        self.height = height\n",
    "        \n",
    "    def area(self):\n",
    "        return self.width * self.height\n",
    "    \n",
    "    def perimeter(self):\n",
    "        return 2 * (self.width + self.height)\n",
    "    \n",
    "r = Rectangle('rect', 'red', 10, 5)\n",
    "\n",
    "print(r.area())   # 50\n",
    "print(r.perimeter()) # 30\n"
   ]
  },
  {
   "cell_type": "markdown",
   "metadata": {},
   "source": [
    "<b>Numpy I - some basic functions</b>. In this block, you will become familiar with the numpy library and some of its basic functionality. Please also consider to consult the documentation  https://docs.scipy.org/doc/numpy-dev/index.html if needed. Solve the following tasks:\n",
    "* Create an numpy array of floats containing the numbers from $0$ to $4$.\n",
    "* Create the following matrix as a numpy matrix: $M = [[1,2,3], [4,5,6]]$.\n",
    "* Get the shape of the matrix $M$.\n",
    "* Check if the value $2$ is in $M$.\n",
    "* Given the array $a = np.array([0,1,2,3,4,5,6,7,8,9], float)$. Reshape it to an $5\\times2$ matrix.\n",
    "* Transpose the previously introduced matrix $M$.\n",
    "* Flatten matrix $M$.\n",
    "* Given the array $b = np.array ([0,1,2,3], float)$. Increase the dimensionality of $b$.\n",
    "* Create and $3\\times3$ identity matrix."
   ]
  },
  {
   "cell_type": "code",
   "execution_count": 53,
   "metadata": {},
   "outputs": [
    {
     "name": "stdout",
     "output_type": "stream",
     "text": [
      "[0. 1. 2. 3. 4.]\n",
      "[[1. 2. 3.]\n",
      " [4. 5. 6.]]\n",
      "(2, 3)\n",
      "yes, 2 is in M\n",
      "[[0. 1.]\n",
      " [2. 3.]\n",
      " [4. 5.]\n",
      " [6. 7.]\n",
      " [8. 9.]]\n",
      "[[1. 4.]\n",
      " [2. 5.]\n",
      " [3. 6.]]\n",
      "[1. 2. 3. 4. 5. 6.]\n",
      "(4,)\n",
      "(4, 1)\n",
      "[0. 1. 2. 3.]\n",
      "[[0.]\n",
      " [1.]\n",
      " [2.]\n",
      " [3.]]\n",
      "[[1. 0. 0. ... 0. 0. 0.]\n",
      " [0. 1. 0. ... 0. 0. 0.]\n",
      " [0. 0. 1. ... 0. 0. 0.]\n",
      " ...\n",
      " [0. 0. 0. ... 1. 0. 0.]\n",
      " [0. 0. 0. ... 0. 1. 0.]\n",
      " [0. 0. 0. ... 0. 0. 1.]]\n"
     ]
    }
   ],
   "source": [
    "import numpy as np\n",
    "\n",
    "nparr = np.array([0, 1, 2, 3, 4], float)\n",
    "\n",
    "print(nparr)\n",
    "\n",
    "\n",
    "M = np.array([[1,2,3], [4,5,6]], float)\n",
    "print(M)\n",
    "print(M.shape)\n",
    "if 2 in M:\n",
    "    print('yes, 2 is in M')\n",
    "    \n",
    "a = np.array([0,1,2,3,4,5,6,7,8,9], float)\n",
    "b = a.reshape(5, 2)\n",
    "print(b)\n",
    "\n",
    "print(M.T)\n",
    "print(M.flatten())\n",
    "\n",
    "b = np.array ([0,1,2,3], float)\n",
    "print(b.shape)\n",
    "c = np.expand_dims(b, axis = 1)\n",
    "print(c.shape)\n",
    "print(b)\n",
    "print(c)\n",
    "\n",
    "threebythree = np.identity(300)\n",
    "print(threebythree)"
   ]
  },
  {
   "cell_type": "markdown",
   "metadata": {},
   "source": [
    "<b>Numpy II - linear algebra and statistics. </b> This assignemtn has its focus on numpy function of the linear algebra and statistics domain. Solve the following tasks using numpy:\n",
    "* Given the following two numpy array: $a=np.array([1,2,3], float)$, $b=([4,5,6],float)$. Compute the dot product of $a$ and $b$\n",
    "* Given the following matrix $M = [[1,2,3], [4,5,6], [7,8,9]]$, compute the determinant of $M$ by using the $linalg$ package of the numpy library.\n",
    "* Compute the eigenvalues and eigenvectors of $M$\n",
    "* Compute the inverse of $M$\n",
    "* Given the numpy array $c=np.array([1,4,3,8,3,2,3], float)$, compute the mean of $c$\n",
    "* using $c$, compute the median.\n",
    "* given the following matrix $C=[[1,1], [3,4]]$, compute the covariance of $C$."
   ]
  },
  {
   "cell_type": "code",
   "execution_count": 59,
   "metadata": {},
   "outputs": [
    {
     "name": "stdout",
     "output_type": "stream",
     "text": [
      "32.0\n",
      "0.0\n",
      "[ 1.61168440e+01 -1.11684397e+00 -1.30367773e-15] [[-0.23197069 -0.78583024  0.40824829]\n",
      " [-0.52532209 -0.08675134 -0.81649658]\n",
      " [-0.8186735   0.61232756  0.40824829]]\n",
      "[[-6.00000000e+00 -2.00000000e+00  3.00000000e+00]\n",
      " [-1.00000000e+00  5.00000000e-01 -2.33146835e-16]\n",
      " [ 5.00000000e+00  1.00000000e+00 -2.00000000e+00]]\n",
      "3.4285714285714284\n",
      "3.0\n",
      "4.9523809523809526\n"
     ]
    }
   ],
   "source": [
    "a=np.array([1,2,3], float)\n",
    "b=np.array([4,5,6],float)\n",
    "\n",
    "c = a.dot(b)\n",
    "print(c)\n",
    "\n",
    "M = np.array([[1,2,3], [4,5,6], [7,8,9]], float)\n",
    "determinate_value = np.linalg.det(M)\n",
    "print(determinate_value)\n",
    "\n",
    "eig_value, eig_vector = np.linalg.eig(M)\n",
    "print(eig_value, eig_vector)\n",
    "\n",
    "M_inv = np.linalg.inv(M + np.identity(len(M)))\n",
    "print(M_inv)\n",
    "\n",
    "c=np.array([1,4,3,8,3,2,3], float)\n",
    "\n",
    "print(np.mean(c))\n",
    "print(np.median(c))\n",
    "print(np.cov(c))"
   ]
  },
  {
   "cell_type": "markdown",
   "metadata": {},
   "source": [
    "<b>Matplotlib - Plotting figures in Python. </b> In this assignment we are finally going to become familiar with the plotting library of Python. For this we solve the following tasks below. Please consider to consult the documentation if needed: https://matplotlib.org/contents.html.\n",
    "\n",
    "* Given a list of data points : $dpts=[(3,3),(4,5),(4.5,6),(9,7)]$. Plot the function using $plt.plot(xcoors, ycoors)$\n",
    "* You are given two tiny clusters $c_1 = [(1,2),(3,1),(0,1),(2,2)]$ and $c_2=[(12,9),(8,10),(11,11), (14,13)]$. Plot them in a scatter plot using $plt.scatter(xcoors, ycoors)$, where $c_1$ and $c_2$ have different colors. The $x-axis$ represents the time spent at a parking lot in hours, and the $y-axis$ represents the money spent in euro. Create axis labels for your figure.\n",
    "* Take the two clusters $c_1$ and $c_2$ together and compute their pairwise distances, storing them in a matrix. Plot the resulting matrix as a heatmap using $plt.imshow(my\\_matrix, cmap='coolwarm')$."
   ]
  },
  {
   "cell_type": "code",
   "execution_count": 64,
   "metadata": {},
   "outputs": [
    {
     "data": {
      "image/png": "[encoded data removed]",
      "text/plain": [
       "<Figure size 432x288 with 1 Axes>"
      ]
     },
     "metadata": {
      "needs_background": "light"
     },
     "output_type": "display_data"
    },
    {
     "data": {
      "image/png": "[encoded data removed]",
      "text/plain": [
       "<Figure size 432x288 with 1 Axes>"
      ]
     },
     "metadata": {
      "needs_background": "light"
     },
     "output_type": "display_data"
    },
    {
     "data": {
      "image/png": "[encoded data removed]",
      "text/plain": [
       "<Figure size 432x288 with 1 Axes>"
      ]
     },
     "metadata": {
      "needs_background": "light"
     },
     "output_type": "display_data"
    }
   ],
   "source": [
    "import matplotlib.pyplot as plt\n",
    "%matplotlib inline\n",
    "\n",
    "dpts = [(3,3),(4,5),(4.5,6),(9,7)]\n",
    "xcoors = [x for x, _ in dpts]\n",
    "ycoors = [y for _, y in dpts]\n",
    "\n",
    "plt.figure()\n",
    "plt.plot(xcoors, ycoors)\n",
    "plt.show()\n",
    "\n",
    "\n",
    "\n",
    "\n",
    "\n",
    "plt.figure()\n",
    "c_1 = [(1,2),(3,1),(0,1),(2,2)]\n",
    "xcoors = [x for x, _ in c_1]\n",
    "ycoors = [y for _, y in c_1]\n",
    "plt.scatter(xcoors, ycoors)\n",
    "\n",
    "c_2=[(12,9),(8,10),(11,11), (14,13)]\n",
    "xcoors = [x for x, _ in c_2]\n",
    "ycoors = [y for _, y in c_2]\n",
    "plt.scatter(xcoors, ycoors)\n",
    "plt.show()\n",
    "\n",
    "\n",
    "def pairwise_dist(c1, c2):\n",
    "    m = np.zeros((len(c1), len(c2)))\n",
    "    \n",
    "    for index1, p in enumerate(c1):\n",
    "        for index2, q in enumerate(c2):\n",
    "            p1 = Point(p[0], p[1])\n",
    "            p2 = Point(q[0], q[1])\n",
    "            \n",
    "            m[index1][index2] = p1.distance(p2)\n",
    "    \n",
    "    return m\n",
    "\n",
    "mat = pairwise_dist(c_1, c_2)\n",
    "\n",
    "plt.figure()\n",
    "plt.imshow(mat, cmap='coolwarm')\n",
    "plt.show()"
   ]
  },
  {
   "cell_type": "markdown",
   "metadata": {},
   "source": [
    "# End of first Tutorial"
   ]
  }
 ],
 "metadata": {
  "kernelspec": {
   "display_name": "Python 3",
   "language": "python",
   "name": "python3"
  },
  "language_info": {
   "codemirror_mode": {
    "name": "ipython",
    "version": 3
   },
   "file_extension": ".py",
   "mimetype": "text/x-python",
   "name": "python",
   "nbconvert_exporter": "python",
   "pygments_lexer": "ipython3",
   "version": "3.7.0"
  }
 },
 "nbformat": 4,
 "nbformat_minor": 1
}
