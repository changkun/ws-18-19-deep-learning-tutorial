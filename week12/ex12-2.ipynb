{
 "cells": [
  {
   "cell_type": "code",
   "execution_count": 4,
   "metadata": {},
   "outputs": [],
   "source": [
    "import numpy as np"
   ]
  },
  {
   "cell_type": "markdown",
   "metadata": {},
   "source": [
    "# Ex 12-2\n",
    "\n",
    "TD:\n",
    "\n",
    "```\n",
    "delta_w = learning_rate * (immediate_reward + disccount_factor * Us' - Us) * Xs\n",
    "```"
   ]
  },
  {
   "cell_type": "code",
   "execution_count": 5,
   "metadata": {},
   "outputs": [
    {
     "name": "stdout",
     "output_type": "stream",
     "text": [
      "current state:  1\n",
      "delta:  [4.2]  * x_1\n",
      "[1.84 1.   1.   1.   1.   1.   1.   1.42]\n",
      "------------\n",
      "\n",
      "current state:  2\n",
      "delta:  [6.426]  * x_2\n",
      "[1.84   2.2852 1.     1.     1.     1.     1.     2.0626]\n",
      "------------\n",
      "\n",
      "current state:  3\n",
      "delta:  [9.83178]  * x_3\n",
      "[1.84     2.2852   2.966356 1.       1.       1.       1.       3.045778]\n",
      "------------\n",
      "\n",
      "current state:  4\n",
      "delta:  [15.0426234]  * x_4\n",
      "[1.84       2.2852     2.966356   4.00852468 1.         1.\n",
      " 1.         4.55004034]\n",
      "------------\n",
      "\n",
      "current state:  5\n",
      "delta:  [23.0152138]  * x_5\n",
      "[1.84       2.2852     2.966356   4.00852468 5.60304276 1.\n",
      " 1.         6.85156172]\n",
      "------------\n",
      "\n",
      "current state:  6\n",
      "delta:  [35.21327712]  * x_6\n",
      "[ 1.84        2.2852      2.966356    4.00852468  5.60304276  8.04265542\n",
      "  1.         10.37288943]\n",
      "------------\n",
      "\n",
      "current state:  7\n",
      "delta:  [-7.3610226]  * x_7\n",
      "[1.84       2.2852     2.966356   4.00852468 5.60304276 8.04265542\n",
      " 0.26389774 5.22017361]\n",
      "------------\n",
      "\n"
     ]
    }
   ],
   "source": [
    "learning_rate = 0.1\n",
    "disccount_factor = 0.9\n",
    "\n",
    "x_s = np.array([\n",
    "    # six upper states\n",
    "    [2,0,0,0,0,0,0,1],\n",
    "    [0,2,0,0,0,0,0,1],\n",
    "    [0,0,2,0,0,0,0,1],\n",
    "    [0,0,0,2,0,0,0,1],\n",
    "    [0,0,0,0,2,0,0,1],\n",
    "    [0,0,0,0,0,2,0,1],\n",
    "\n",
    "    # seventh state\n",
    "    [0,0,0,0,0,0,1,7],\n",
    "], dtype='float64')\n",
    "U_s = np.zeros((7,1))\n",
    "R_s = np.zeros((7,1))\n",
    "w = np.array([1,1,1,1,1,1,1,1], dtype='float64')\n",
    "\n",
    "round = 1\n",
    "for state in range(0, 7*round):\n",
    "    current_state = state%7\n",
    "    print('current state: ', current_state+1)\n",
    "    # evaluation\n",
    "    U_s[current_state] = np.sum(np.multiply(x_s[current_state], w))\n",
    "    U_s[6] = np.sum(np.multiply(x_s[6], w))\n",
    "    print('delta: ', (R_s[current_state] + disccount_factor * U_s[6] \n",
    "                      - U_s[current_state]), f' * x_{current_state+1}')\n",
    "    # control\n",
    "    w += learning_rate * (R_s[current_state] + disccount_factor * U_s[6] \n",
    "                          - U_s[current_state]) * x_s[current_state]\n",
    "    print(w)\n",
    "    print('------------\\n')"
   ]
  },
  {
   "cell_type": "code",
   "execution_count": null,
   "metadata": {},
   "outputs": [],
   "source": []
  }
 ],
 "metadata": {
  "kernelspec": {
   "display_name": "Python 3",
   "language": "python",
   "name": "python3"
  },
  "language_info": {
   "codemirror_mode": {
    "name": "ipython",
    "version": 3
   },
   "file_extension": ".py",
   "mimetype": "text/x-python",
   "name": "python",
   "nbconvert_exporter": "python",
   "pygments_lexer": "ipython3",
   "version": "3.6.5"
  }
 },
 "nbformat": 4,
 "nbformat_minor": 2
}
