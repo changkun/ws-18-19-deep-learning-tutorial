{
 "cells": [
  {
   "cell_type": "code",
   "execution_count": 1,
   "metadata": {},
   "outputs": [],
   "source": [
    "import numpy as np"
   ]
  },
  {
   "cell_type": "code",
   "execution_count": null,
   "metadata": {},
   "outputs": [],
   "source": [
    "xsa = np.array([\n",
    "    [1,0,0],\n",
    "    [0,1,0],\n",
    "    [0,0,1]\n",
    "],dtype='float32')\n",
    "pas = [0.3, 0.6, 0.1]\n",
    "Gs = [101.0, 110.0, 104.0]\n",
    "\n",
    "def pg_mean():\n",
    "    sum = [0.0,0.0,0.0]\n",
    "    for i, g in enumerate(Gs):\n",
    "        sum += pas[i] * g *( xsa[i] - pas )\n",
    "    return sum\n",
    "def pg_base_mean():\n",
    "    sum = [0.0,0.0,0.0]\n",
    "    for i, g in enumerate(Gs):\n",
    "        sum += pas[i] * (g-100) *( xsa[i] - pas )\n",
    "    return sum\n",
    "    \n",
    "def pg_variance():\n",
    "    sum = [0.0,0.0,0.0]\n",
    "    for i, g in enumerate(Gs):\n",
    "        sum += pas[i] * np.power((g *( xsa[i] - pas )), 2)\n",
    "    return sum - np.power(pg_mean(), 2)\n",
    "    \n",
    "    \n",
    "def pg_variance_npvar():\n",
    "    return np.var(Gs)\n",
    "\n",
    "def pg_base_variance():\n",
    "    sum = [0.0,0.0,0.0]\n",
    "    for i, g in enumerate(Gs):\n",
    "        sum += pas[i] * np.power((g-100) *( xsa[i] - pas ), 2)\n",
    "    return sum - np.power(pg_base_mean(), 2)\n",
    "    \n",
    "print(pg_mean())\n",
    "print(pg_base_mean())\n",
    "print(pg_variance())\n",
    "print(pg_variance_npvar())\n",
    "print(pg_base_variance())"
   ]
  },
  {
   "cell_type": "code",
   "execution_count": null,
   "metadata": {},
   "outputs": [],
   "source": []
  },
  {
   "cell_type": "code",
   "execution_count": null,
   "metadata": {},
   "outputs": [],
   "source": []
  }
 ],
 "metadata": {
  "kernelspec": {
   "display_name": "Python 3",
   "language": "python",
   "name": "python3"
  },
  "language_info": {
   "codemirror_mode": {
    "name": "ipython",
    "version": 3
   },
   "file_extension": ".py",
   "mimetype": "text/x-python",
   "name": "python",
   "nbconvert_exporter": "python",
   "pygments_lexer": "ipython3",
   "version": "3.6.5"
  }
 },
 "nbformat": 4,
 "nbformat_minor": 2
}
