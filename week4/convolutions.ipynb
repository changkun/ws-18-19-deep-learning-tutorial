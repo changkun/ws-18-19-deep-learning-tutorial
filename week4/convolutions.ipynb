{
 "cells": [
  {
   "cell_type": "code",
   "execution_count": 29,
   "metadata": {},
   "outputs": [],
   "source": [
    "import numpy as np\n",
    "def element_wise_mult(mat1, mat2):\n",
    "    ret = 0\n",
    "    for j in range(0, min(len(mat1), len(mat2))):\n",
    "        for i in range(0, min(len(mat1[j]), len(mat2[j]))):\n",
    "            ret += mat1[i][j] * mat2[i][j]\n",
    "    return ret\n",
    "\n",
    "\n",
    "def test_element_wise_mult():\n",
    "    mat1 = np.array([\n",
    "        [1, 2, 3],\n",
    "        [2, 3, 4],\n",
    "        [3, 4, 5],\n",
    "    ])\n",
    "    mat2 = np.array([\n",
    "        [1, 2, 3],\n",
    "        [2, 3, 4],\n",
    "        [3, 4, 5],\n",
    "    ])\n",
    "    assert conv(mat1, mat2) == 93\n",
    "\n",
    "test_element_wise_mult()"
   ]
  },
  {
   "cell_type": "code",
   "execution_count": 32,
   "metadata": {},
   "outputs": [],
   "source": [
    "def valid_conv(mat, kernel):\n",
    "    m, n = kernel.shape\n",
    "    p, q = mat.shape\n",
    "    ret = np.zeros((p - m + 1, q - n + 1))\n",
    "    for i in range(0, p - m + 1):\n",
    "        for j in range(0, q - n + 1):\n",
    "            ret[i][j] = element_wise_mult(kernel, mat[i:i+m, j:j+n])\n",
    "    return ret\n",
    "\n",
    "\n",
    "image = np.array([\n",
    "    [5,5,2,5,5],\n",
    "    [5,5,2,5,5],\n",
    "    [7,7,5,7,7],\n",
    "    [5,5,2,5,5],\n",
    "    [5,5,2,5,5],\n",
    "])\n",
    "\n",
    "kernel1 = np.array([\n",
    "    [1,0,-1],\n",
    "    [2,0,-2],\n",
    "    [1,0,-1],\n",
    "])\n",
    "\n",
    "kernel2 = np.array([\n",
    "    [1,2,1],\n",
    "    [0,0,0],\n",
    "    [-1,-2,-1],\n",
    "])\n",
    "kernel3 = np.array([\n",
    "    [0,1,0],\n",
    "    [1,-4,1],\n",
    "    [0,1,0],\n",
    "])\n",
    "\n",
    "mat1 = valid_conv(image, kernel1)\n",
    "mat2 = valid_conv(image, kernel2)\n",
    "mat3 = valid_conv(image, kernel3)"
   ]
  },
  {
   "cell_type": "code",
   "execution_count": 40,
   "metadata": {},
   "outputs": [
    {
     "data": {
      "image/png": "[encoded data removed]",
      "text/plain": [
       "<Figure size 432x288 with 1 Axes>"
      ]
     },
     "metadata": {
      "needs_background": "light"
     },
     "output_type": "display_data"
    },
    {
     "data": {
      "image/png": "[encoded data removed]",
      "text/plain": [
       "<Figure size 432x288 with 1 Axes>"
      ]
     },
     "metadata": {
      "needs_background": "light"
     },
     "output_type": "display_data"
    },
    {
     "data": {
      "image/png": "[encoded data removed]",
      "text/plain": [
       "<Figure size 432x288 with 1 Axes>"
      ]
     },
     "metadata": {
      "needs_background": "light"
     },
     "output_type": "display_data"
    },
    {
     "data": {
      "image/png": "[encoded data removed]",
      "text/plain": [
       "<Figure size 432x288 with 1 Axes>"
      ]
     },
     "metadata": {
      "needs_background": "light"
     },
     "output_type": "display_data"
    }
   ],
   "source": [
    "import matplotlib.pyplot as plt\n",
    "%matplotlib inline\n",
    "\n",
    "def plot_mat(mat):\n",
    "    fig = plt.figure()\n",
    "    plt.imshow(mat, cmap='coolwarm')\n",
    "    fig.show()\n",
    "\n",
    "plot_mat(image)\n",
    "plot_mat(mat1)\n",
    "plot_mat(mat2)\n",
    "plot_mat(mat3)\n"
   ]
  },
  {
   "cell_type": "code",
   "execution_count": null,
   "metadata": {},
   "outputs": [],
   "source": []
  }
 ],
 "metadata": {
  "kernelspec": {
   "display_name": "Python 3",
   "language": "python",
   "name": "python3"
  },
  "language_info": {
   "codemirror_mode": {
    "name": "ipython",
    "version": 3
   },
   "file_extension": ".py",
   "mimetype": "text/x-python",
   "name": "python",
   "nbconvert_exporter": "python",
   "pygments_lexer": "ipython3",
   "version": "3.6.5"
  }
 },
 "nbformat": 4,
 "nbformat_minor": 2
}
