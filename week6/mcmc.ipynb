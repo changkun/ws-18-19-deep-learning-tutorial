{
 "cells": [
  {
   "cell_type": "markdown",
   "metadata": {},
   "source": [
    "# Exercise 6-2 d)\n",
    "\n",
    "## Markov Chain Monte Carlo\n",
    "\n",
    "In this notebook you will first implement the analytical solution from exercise 6-2 b) and then you will implement the Metropolis-Hastings algorithm.\n",
    "\n",
    "Let's start with importing some modules."
   ]
  },
  {
   "cell_type": "code",
   "execution_count": 2,
   "metadata": {},
   "outputs": [],
   "source": [
    "import numpy as np\n",
    "from matplotlib import pyplot as plt"
   ]
  },
  {
   "cell_type": "markdown",
   "metadata": {},
   "source": [
    "The following function will create a normal distributed dataset with a normal distributed mean:"
   ]
  },
  {
   "cell_type": "code",
   "execution_count": 5,
   "metadata": {},
   "outputs": [
    {
     "name": "stdout",
     "output_type": "stream",
     "text": [
      "[3.76070226]\n"
     ]
    }
   ],
   "source": [
    "def random_dataset(param_mean, dimension, datapoints):\n",
    "    mus = np.random.normal(param_mean, 1, dimension)\n",
    "    print(mus)\n",
    "    data = np.array([np.random.normal(mu, 1, datapoints) for mu in mus]).T\n",
    "    return data\n",
    "\n",
    "dataset = random_dataset(5, 1, 100)"
   ]
  },
  {
   "cell_type": "markdown",
   "metadata": {},
   "source": [
    "Implement the analytical solution of exercise 6-2 b):"
   ]
  },
  {
   "cell_type": "code",
   "execution_count": 6,
   "metadata": {},
   "outputs": [],
   "source": [
    "def gauss(x, mu, sigma):\n",
    "    dim = len(mu)\n",
    "    assert x.shape[1] == dim\n",
    "    d = (x-mu)\n",
    "    scale = 1/np.sqrt((2*np.pi)**dim * np.linalg.det(sigma))\n",
    "    exponent = -0.5 * np.array([np.transpose(dd) @ np.linalg.inv(sigma) @ dd for dd in d])\n",
    "    result = scale * np.exp(exponent)\n",
    "    return result\n",
    "\n",
    "def analytically(dataset):\n",
    "    points = dataset.shape[0]\n",
    "    dim = dataset.shape[1]\n",
    "    mu = 1/(points+1) * np.sum(dataset, axis=0)\n",
    "    print(np.sqrt(1/(points+1)))\n",
    "    return lambda theta: gauss(theta, mu, np.sqrt(1/(points+1)) * np.eye(dim))"
   ]
  },
  {
   "cell_type": "code",
   "execution_count": 9,
   "metadata": {
    "scrolled": false
   },
   "outputs": [
    {
     "name": "stdout",
     "output_type": "stream",
     "text": [
      "0.09950371902099892\n",
      "CPU times: user 76 µs, sys: 8 µs, total: 84 µs\n",
      "Wall time: 87 µs\n",
      "argmax [3.78787879]\n"
     ]
    },
    {
     "data": {
      "image/png": "[encoded data removed]",
      "text/plain": [
       "<Figure size 432x288 with 1 Axes>"
      ]
     },
     "metadata": {
      "needs_background": "light"
     },
     "output_type": "display_data"
    }
   ],
   "source": [
    "%time f = analytically(dataset)\n",
    "theta = np.linspace(0, 7.5, 100).reshape((100, 1))\n",
    "p = np.array([f(np.array([i])) for i in theta])\n",
    "plt.plot(theta, p)\n",
    "plt.scatter(dataset, np.zeros(len(dataset)))\n",
    "\n",
    "print(\"argmax\", theta[np.argmax(p)])"
   ]
  },
  {
   "cell_type": "markdown",
   "metadata": {},
   "source": [
    "Now, Implement the Metropolis-Hastings Algorithm (see lecture slides):"
   ]
  },
  {
   "cell_type": "code",
   "execution_count": 41,
   "metadata": {},
   "outputs": [],
   "source": [
    "points = dataset.shape[0]\n",
    "\n",
    "def gauss_proposal(x):\n",
    "    return np.random.normal(x, 1)\n",
    "\n",
    "def gauss_distribution(value, given):\n",
    "    return gauss(np.array([[value]]), [given], np.eye(dataset.shape[1]))\n",
    "\n",
    "def gauss_unnormalized(theta): # alternatively you can compute the product of all gaussians (less performant)\n",
    "    points = dataset.shape[0]\n",
    "    dim = dataset.shape[1]\n",
    "    mu = 1/(points+1) * np.sum(dataset, axis=0)\n",
    "    return gauss(np.array([[theta]]), mu, np.sqrt(1/(points+1)) * np.eye(dim))\n",
    "\n",
    "def metropolis_hastings_mcmc(dataset, samples, theta_0, sample_proposal, proposal_distribution, unnormalized, bins=100):\n",
    "    theta = theta_0\n",
    "    sampled = []\n",
    "    for _ in range(samples):\n",
    "        proposed = sample_proposal(theta)\n",
    "        # since we have a symetric proposal distribution\n",
    "        # (proposal_distribution(theta, proposed) == proposal_distribution(proposed, theta))\n",
    "        # we could use unnormalized(proposed) / unnormalized(theta) (=> Metropolis algorithm)\n",
    "        accept_ratio = min(1, unnormalized(proposed) * proposal_distribution(proposed, theta)\n",
    "                           / unnormalized(theta) / proposal_distribution(theta, proposed))\n",
    "        if np.random.random() <= accept_ratio:\n",
    "            theta = proposed\n",
    "        sampled.append(theta)\n",
    "    hist_y, hist_x = np.histogram(sampled, bins)\n",
    "    hist_y, hist_x = np.asarray(hist_y) / samples / (hist_x[1]-hist_x[0]), np.asarray(hist_x)\n",
    "    return lambda theta: max(0, hist_y[np.argmin(np.abs(hist_x - theta))-1])"
   ]
  },
  {
   "cell_type": "code",
   "execution_count": 42,
   "metadata": {
    "scrolled": false
   },
   "outputs": [
    {
     "name": "stdout",
     "output_type": "stream",
     "text": [
      "CPU times: user 4.15 s, sys: 3.57 ms, total: 4.15 s\n",
      "Wall time: 4.81 s\n",
      "argmax [4.34343434]\n"
     ]
    },
    {
     "data": {
      "image/png": "[encoded data removed]",
      "text/plain": [
       "<Figure size 432x288 with 1 Axes>"
      ]
     },
     "metadata": {},
     "output_type": "display_data"
    }
   ],
   "source": [
    "%time mcmc_f = metropolis_hastings_mcmc(dataset, 10000, 0, gauss_proposal, gauss_distribution, gauss_unnormalized, 100)\n",
    "\n",
    "p_mcmc = np.array([mcmc_f(i) for i in theta])\n",
    "plt.plot(theta, p_mcmc)\n",
    "plt.plot(theta, p)\n",
    "\n",
    "print(\"argmax\", theta[np.argmax(p)])"
   ]
  }
 ],
 "metadata": {
  "kernelspec": {
   "display_name": "Python 3",
   "language": "python",
   "name": "python3"
  },
  "language_info": {
   "codemirror_mode": {
    "name": "ipython",
    "version": 3
   },
   "file_extension": ".py",
   "mimetype": "text/x-python",
   "name": "python",
   "nbconvert_exporter": "python",
   "pygments_lexer": "ipython3",
   "version": "3.7.1"
  }
 },
 "nbformat": 4,
 "nbformat_minor": 2
}
